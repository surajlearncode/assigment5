{
 "cells": [
  {
   "cell_type": "code",
   "execution_count": 27,
   "id": "cf253117-a715-423b-9341-bc564e88af53",
   "metadata": {},
   "outputs": [
    {
     "name": "stdout",
     "output_type": "stream",
     "text": [
      "List:- [1, 2, 3, 4, [44, 55, 66, True], False, (34, 56, 78, 89, 34), {1, 2, 3}, {1: 34, 'key2': [55, 67, 78, 89], 4: (45, 22, 61, 34)}, [56, 'data science'], 'Machine Learning']\n",
      "Flat List:- [1, 2, 3, 4, 44, 55, 66, True, False, (34, 56, 78, 89, 34), {1, 2, 3}, {1: 34, 'key2': [55, 67, 78, 89], 4: (45, 22, 61, 34)}, 56, 'data science', 'Machine Learning']\n"
     ]
    }
   ],
   "source": [
    "ANS 1:\n",
    "def flat(list1):\n",
    "    flatList = []\n",
    "    for element in list1:\n",
    "        if type(element) is list:\n",
    "            for item in element:\n",
    "                flatList.append(item)\n",
    "        else:\n",
    "            flatList.append(element)\n",
    "    return flatList\n",
    " \n",
    " \n",
    "list1 = [1,2,3,4, [44,55,66, True], False, (34,56,78,89,34), {1,2,3,3,2,1}, {1:34, \"key2\": [55, 67, 78, 89], 4: (45, 22, 61, 34)}, [56, 'data science'], 'Machine Learning']\n",
    "print('List:-', list1)\n",
    "\n",
    "print('Flat List:-', flat(list1))"
   ]
  },
  {
   "cell_type": "code",
   "execution_count": 32,
   "id": "b3972eab-1379-46ec-83e3-52f81763c5ad",
   "metadata": {},
   "outputs": [
    {
     "name": "stdin",
     "output_type": "stream",
     "text": [
      "enter the sentence you want to encrypt i want to become a data scientist !\n"
     ]
    },
    {
     "name": "stdout",
     "output_type": "stream",
     "text": [
      "s$want$to$zwyoow$a$xata$syswntsst$!aca\n"
     ]
    }
   ],
   "source": [
    "ANS 2 :\n",
    "encrypt = input(\"enter the sentence you want to encrypt\")\n",
    "dict = {\"b\" : \"z\", \"c\" :\"y\" , \"d\" :\"x\" ,\"e\" :\"w\" , \"f\" :\"v\" ,\"g\":\"u\" ,\"h\":\"t\",\"i\" :\"s\" ,\"j\" :\"r\" ,\"k\":\"q\",\"l\":\"p\",\"m\":\"o\",\"n\":\"n\" ,\" \" :\"$\", \"!\" :\"!\"}\n",
    "num = encrypt[::1]\n",
    "\n",
    "for i in dict :\n",
    "    num = num.replace(i,dict[i])\n",
    "\n",
    "print(f\"{num}aca\")"
   ]
  },
  {
   "cell_type": "code",
   "execution_count": null,
   "id": "62b4bb80-5bde-4cd5-b7a3-6af4fc41e2f4",
   "metadata": {},
   "outputs": [],
   "source": []
  }
 ],
 "metadata": {
  "kernelspec": {
   "display_name": "Python 3 (ipykernel)",
   "language": "python",
   "name": "python3"
  },
  "language_info": {
   "codemirror_mode": {
    "name": "ipython",
    "version": 3
   },
   "file_extension": ".py",
   "mimetype": "text/x-python",
   "name": "python",
   "nbconvert_exporter": "python",
   "pygments_lexer": "ipython3",
   "version": "3.10.8"
  }
 },
 "nbformat": 4,
 "nbformat_minor": 5
}
